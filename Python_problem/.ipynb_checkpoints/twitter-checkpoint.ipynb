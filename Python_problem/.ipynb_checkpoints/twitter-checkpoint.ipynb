{
 "cells": [
  {
   "cell_type": "code",
   "execution_count": 15,
   "metadata": {},
   "outputs": [
    {
     "name": "stderr",
     "output_type": "stream",
     "text": [
      "IOPub data rate exceeded.\n",
      "The notebook server will temporarily stop sending output\n",
      "to the client in order to avoid crashing it.\n",
      "To change this limit, set the config variable\n",
      "`--NotebookApp.iopub_data_rate_limit`.\n",
      "\n",
      "Current values:\n",
      "NotebookApp.iopub_data_rate_limit=1000000.0 (bytes/sec)\n",
      "NotebookApp.rate_limit_window=3.0 (secs)\n",
      "\n"
     ]
    }
   ],
   "source": [
    "import tweepy\n",
    "import numpy as np\n",
    "import csv\n",
    "import json\n",
    "  \n",
    "\n",
    "consumer_key = \"GOf8sgqV0I65UtU3CQdIjaiA7\" \n",
    "consumer_secret = \"KV9wm8W1Wyz3kbGfZr4iqYk9GDrVJ5JxmyzPRRIqrwqrPFs8f5\"\n",
    "access_key = \"1106962191951921154-PqeinJs9fjP8xZ5gREPsxVPMPjMWBA\"\n",
    "access_secret = \"6z7xktU9uobj90fiLqz1R3sCCmYmKR1Pwu6dsRkjprQmL\"\n",
    "  \n",
    "# Function to extract tweets \n",
    "def get_tweets(username): \n",
    "          \n",
    "        # Authorization to consumer key and consumer secret \n",
    "        auth = tweepy.OAuthHandler(consumer_key, consumer_secret) \n",
    "  \n",
    "        # Access to user's access key and access secret \n",
    "        auth.set_access_token(access_key, access_secret) \n",
    "  \n",
    "        # Calling api \n",
    "        api = tweepy.API(auth) \n",
    "  \n",
    "        # 200 tweets to be extracted\n",
    "        alltweets = [] \n",
    "        number_of_tweets=200\n",
    "        tweets = api.user_timeline(screen_name=username)\n",
    "        alltweets.extend(tweets)\n",
    "        oldest = alltweets[-1].id - 1\n",
    "        while len(tweets) > 0:\n",
    "            tweets = api.user_timeline(screen_name=username,count=200,max_id=oldest)\n",
    "            alltweets.extend(tweets)\n",
    "            oldest = alltweets[-1].id - 1\n",
    "\n",
    "        csvFile = open('data.csv', 'w')\n",
    "        csvWriter = csv.writer(csvFile)\n",
    "        tmp=[]  \n",
    "  \n",
    "        # create array of tweet information: username,  \n",
    "        # tweet id, date/time, text \n",
    "        tweets_for_csv = [tweet for tweet in alltweets] # CSV file created  \n",
    "        for j in tweets_for_csv: \n",
    "  \n",
    "            # Appending tweets to the empty array tmp \n",
    "            tmp.append(j)  \n",
    "  \n",
    "        # Printing the tweets \n",
    "        print(tmp)\n",
    "\n",
    "        for tweet in alltweets:\n",
    "            csvWriter.writerow([tweet.created_at, tweet.text])\n",
    "        csvFile.close()\n",
    "        \n",
    "#        print(\"Writing tweet objects to JSON please wait...\")\n",
    "#        with open('tweet.json', 'a') as f:\n",
    "#            for tweet in alltweets:\n",
    "#                json.dump(tweet._json, f)\n",
    "#                f.write('\\n')\n",
    "  \n",
    "# Driver code \n",
    "if __name__ == '__main__': \n",
    "\n",
    "    get_tweets(\"midasIIITD\")\n",
    "    \n"
   ]
  },
  {
   "cell_type": "code",
   "execution_count": null,
   "metadata": {},
   "outputs": [],
   "source": []
  }
 ],
 "metadata": {
  "kernelspec": {
   "display_name": "Python 3",
   "language": "python",
   "name": "python3"
  },
  "language_info": {
   "codemirror_mode": {
    "name": "ipython",
    "version": 3
   },
   "file_extension": ".py",
   "mimetype": "text/x-python",
   "name": "python",
   "nbconvert_exporter": "python",
   "pygments_lexer": "ipython3",
   "version": "3.6.7"
  }
 },
 "nbformat": 4,
 "nbformat_minor": 2
}
